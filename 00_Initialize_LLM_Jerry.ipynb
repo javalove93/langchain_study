{
  "cells": [
    {
      "cell_type": "markdown",
      "id": "7c161593-cc89-4147-979a-abed242dc42c",
      "metadata": {
        "id": "7c161593-cc89-4147-979a-abed242dc42c"
      },
      "source": [
        "# Gemini & ChatGPT"
      ]
    },
    {
      "cell_type": "code",
      "execution_count": null,
      "id": "7s3rG7k2lmb5",
      "metadata": {
        "id": "7s3rG7k2lmb5"
      },
      "outputs": [],
      "source": [
        "import os\n",
        "\n",
        "print(f\"REINSTALL: {os.environ.get('REINSTALL')}\")\n",
        "if os.environ[\"REINSTALL\"] == \"TRUE\":\n",
        "    !pip install -U langchain==0.3.0\n",
        "    !pip install -U langchain_openai==0.2.1\n",
        "    !pip install -U google-cloud-aiplatform==1.38\n",
        "    !pip install -U google-cloud-aiplatform==1.69.0\n",
        "    !pip install -U langchain-google-vertexai==2.0.3\n",
        "    !pip install -U gradio==1.4.2"
      ]
    },
    {
      "cell_type": "code",
      "execution_count": null,
      "id": "MNPvvrDc2UqX",
      "metadata": {
        "id": "MNPvvrDc2UqX"
      },
      "outputs": [],
      "source": [
        "# 2024/10/21 version\n",
        "\n",
        "from google.colab import userdata\n",
        "import os\n",
        "from langchain_google_genai import ChatGoogleGenerativeAI\n",
        "from langchain_google_genai import GoogleGenerativeAI\n",
        "from langchain_anthropic import ChatAnthropic\n",
        "from langchain_openai import OpenAI\n",
        "from langchain_openai import ChatOpenAI\n",
        "import json\n",
        "\n",
        "api_key = userdata.get('openai-key')\n",
        "os.environ['OPENAI_API_KEY'] = api_key\n",
        "API_KEY = api_key\n",
        "\n",
        "llm = ChatOpenAI(openai_api_key=API_KEY)\n",
        "\n",
        "ANTHROPIC_API_KEY = userdata.get('anthropic-key')\n",
        "os.environ[\"ANTHROPIC_API_KEY\"] = ANTHROPIC_API_KEY\n",
        "\n",
        "llm = ChatAnthropic(model=\"claude-3-opus-20240229\")\n",
        "\n",
        "GOOGLE_API_KEY = userdata.get('jerry-argolis-api-key')\n",
        "os.environ[\"GOOGLE_API_KEY\"] = GOOGLE_API_KEY\n",
        "\n",
        "# setup the gemini pro\n",
        "gemini_llm = ChatGoogleGenerativeAI(model=\"gemini-1.5-flash\")\n",
        "\n",
        "SERPER_API_KEY = userdata.get('google-serper-key')\n",
        "os.environ[\"SERPER_API_KEY\"] = SERPER_API_KEY\n",
        "\n",
        "def print_message(aiMessage, messageOnly=True):\n",
        "    print(\"RESPONSE: {}\".format(aiMessage.content))\n",
        "    if messageOnly == False:\n",
        "        print(json.dumps(aiMessage.additional_kwargs, indent=2))\n",
        "        print(json.dumps(aiMessage.response_metadata, indent=2))\n",
        "        print(json.dumps(aiMessage.usage_metadata, indent=2))\n",
        "\n",
        "%env LANGCHAIN_TRACING_V2=true\n",
        "%env LANGCHAIN_ENDPOINT=https://api.smith.langchain.com\n",
        "os.environ[\"LANGCHAIN_API_KEY\"] = userdata.get('langsmith')\n",
        "%env LANGCHAIN_PROJECT=langgraph-test\n",
        "\n",
        "# https://smith.langchain.com"
      ]
    }
  ],
  "metadata": {
    "colab": {
      "provenance": []
    },
    "kernelspec": {
      "display_name": "Python 3 (ipykernel)",
      "language": "python",
      "name": "python3"
    },
    "language_info": {
      "codemirror_mode": {
        "name": "ipython",
        "version": 3
      },
      "file_extension": ".py",
      "mimetype": "text/x-python",
      "name": "python",
      "nbconvert_exporter": "python",
      "pygments_lexer": "ipython3",
      "version": "3.11.4"
    }
  },
  "nbformat": 4,
  "nbformat_minor": 5
}
